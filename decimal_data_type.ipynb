{
 "cells": [
  {
   "cell_type": "markdown",
   "metadata": {},
   "source": [
    "# Decimal Data Type"
   ]
  },
  {
   "cell_type": "code",
   "execution_count": 1,
   "metadata": {},
   "outputs": [],
   "source": [
    "amount = 112.31"
   ]
  },
  {
   "cell_type": "code",
   "execution_count": 2,
   "metadata": {},
   "outputs": [
    {
     "name": "stdout",
     "output_type": "stream",
     "text": [
      "112.31\n"
     ]
    }
   ],
   "source": [
    "print(amount)"
   ]
  },
  {
   "cell_type": "code",
   "execution_count": 3,
   "metadata": {},
   "outputs": [
    {
     "name": "stdout",
     "output_type": "stream",
     "text": [
      "112.31000000000000227374\n"
     ]
    }
   ],
   "source": [
    "print(f\"{amount:.20f}\")"
   ]
  },
  {
   "cell_type": "code",
   "execution_count": 4,
   "metadata": {},
   "outputs": [],
   "source": [
    "from decimal import Decimal"
   ]
  },
  {
   "cell_type": "code",
   "execution_count": 5,
   "metadata": {},
   "outputs": [],
   "source": [
    "principal = Decimal(\"1000.00\")"
   ]
  },
  {
   "cell_type": "code",
   "execution_count": 6,
   "metadata": {},
   "outputs": [
    {
     "data": {
      "text/plain": [
       "Decimal('1000.00')"
      ]
     },
     "execution_count": 6,
     "metadata": {},
     "output_type": "execute_result"
    }
   ],
   "source": [
    "principal"
   ]
  },
  {
   "cell_type": "code",
   "execution_count": 7,
   "metadata": {},
   "outputs": [],
   "source": [
    "rate = Decimal(\"0.05\")"
   ]
  },
  {
   "cell_type": "code",
   "execution_count": 8,
   "metadata": {},
   "outputs": [
    {
     "data": {
      "text/plain": [
       "Decimal('0.05')"
      ]
     },
     "execution_count": 8,
     "metadata": {},
     "output_type": "execute_result"
    }
   ],
   "source": [
    "rate"
   ]
  },
  {
   "cell_type": "markdown",
   "metadata": {},
   "source": [
    "### Compound-Interest Problem Requirements Statement"
   ]
  },
  {
   "cell_type": "markdown",
   "metadata": {},
   "source": [
    "$$a = p(a+r)^{n}$$"
   ]
  },
  {
   "cell_type": "markdown",
   "metadata": {},
   "source": [
    "<li> $p$ is the original amount invested(i.e., the principal).</li>\n",
    "<li> $r$ is the annual interest rate.</li>\n",
    "<li> $n$ is the number of years.</li>\n",
    "<li> $a$ is the amount on deposit at the end of the nth year.</li>"
   ]
  },
  {
   "cell_type": "code",
   "execution_count": 23,
   "metadata": {},
   "outputs": [
    {
     "name": "stdout",
     "output_type": "stream",
     "text": [
      " 1  10210.00\n",
      " 2  10424.41\n",
      " 3  10643.32\n",
      " 4  10866.83\n",
      " 5  11095.04\n",
      " 6  11328.03\n",
      " 7  11565.92\n",
      " 8  11808.80\n",
      " 9  12056.79\n",
      "10  12309.98\n",
      "Total interest earned:   12309.13\n"
     ]
    }
   ],
   "source": [
    "p = Decimal(\"10000.00\")\n",
    "r = Decimal(\"0.021\")\n",
    "total_interest_earned = 0\n",
    "for year in range(1,11):\n",
    "    a = p * (1 + r) ** year\n",
    "    print(f\"{year:>2}{a:>10.2f}\")\n",
    "    total_interest_earned += (a - p)\n",
    "\n",
    "print(f\"Total interest earned: {total_interest_earned:>10.2f}\")"
   ]
  },
  {
   "cell_type": "code",
   "execution_count": null,
   "metadata": {},
   "outputs": [],
   "source": []
  }
 ],
 "metadata": {
  "kernelspec": {
   "display_name": "Python 3",
   "language": "python",
   "name": "python3"
  },
  "language_info": {
   "codemirror_mode": {
    "name": "ipython",
    "version": 3
   },
   "file_extension": ".py",
   "mimetype": "text/x-python",
   "name": "python",
   "nbconvert_exporter": "python",
   "pygments_lexer": "ipython3",
   "version": "3.6.7"
  }
 },
 "nbformat": 4,
 "nbformat_minor": 2
}
